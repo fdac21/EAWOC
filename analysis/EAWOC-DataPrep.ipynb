{
 "cells": [
  {
   "cell_type": "markdown",
   "id": "8d9d43ce",
   "metadata": {},
   "source": [
    "### This code read the csv file and generates parquet filles for further analysis "
   ]
  },
  {
   "cell_type": "code",
   "execution_count": null,
   "id": "bccbebcd",
   "metadata": {},
   "outputs": [],
   "source": [
    "import pandas as pd\n",
    "import chardet\n",
    "import nltk\n",
    "from nltk.corpus import stopwords\n",
    "import pickle\n",
    "import pyarrow.parquet as pq\n",
    "import numpy\n",
    "import os\n",
    "import vaex as vx\n",
    "import matplotlib.pyplot as plt\n",
    "import seaborn as sns\n",
    "import statistics as st\n",
    "import math"
   ]
  },
  {
   "cell_type": "code",
   "execution_count": null,
   "id": "55fe6ef4",
   "metadata": {},
   "outputs": [],
   "source": [
    "# COLUMN NAMES\n",
    "columns = [\"projectID\", \"commitID\", \"author\", \"committer\", \n",
    "           \"authorTime\", \"committerTime\", \"authorTimezone\", \n",
    "           \"committerTimezone\", \"commitMessage\"]"
   ]
  },
  {
   "cell_type": "code",
   "execution_count": null,
   "id": "cea10667",
   "metadata": {},
   "outputs": [],
   "source": [
    "# BLOCK FOR READING THE CSV FILE AND CONVERTING THEM IN TO PARQUET FILES\n",
    "import glob\n",
    "\n",
    "txtFileLocation='/data/fdac21/eawoc//processed_data/'\n",
    "\n",
    "txtfiles = []\n",
    "for file in glob.glob(txtFileLocation + \"/*.txt\"):\n",
    "    txtfiles.append(file)\n",
    "    \n",
    "print('# txt file found:' , len(txtfiles) , '\\n', txtfiles)\n",
    "#dd = pd.read_csv('../processed_data/commits.34.txt', sep=';', encoding=\"ISO-8859-1\", low_memory=False)\n",
    "\n",
    "\n",
    "# NOW CONVERT\n",
    "for file in txtfiles:\n",
    "    print('Now processing:' + file)\n",
    "    # SAVE THE CSV IN PARQUET FORMAT\n",
    "    df_data = vx.from_csv(file, sep=';', \n",
    "                 encoding=\"ISO-8859-1\", \n",
    "                 on_bad_lines='skip', \n",
    "                 names=columns, \n",
    "                 header=None,\n",
    "                 dtype='unicode',\n",
    "                 low_memory=False)\n",
    "    df_data.export_parquet(file + \".parquet\")\n",
    "    \n",
    "print('Conversion done')"
   ]
  },
  {
   "cell_type": "code",
   "execution_count": null,
   "id": "af27690c",
   "metadata": {},
   "outputs": [],
   "source": []
  }
 ],
 "metadata": {
  "kernelspec": {
   "display_name": "Python 3 (ipykernel)",
   "language": "python",
   "name": "python3"
  },
  "language_info": {
   "codemirror_mode": {
    "name": "ipython",
    "version": 3
   },
   "file_extension": ".py",
   "mimetype": "text/x-python",
   "name": "python",
   "nbconvert_exporter": "python",
   "pygments_lexer": "ipython3",
   "version": "3.8.10"
  }
 },
 "nbformat": 4,
 "nbformat_minor": 5
}
